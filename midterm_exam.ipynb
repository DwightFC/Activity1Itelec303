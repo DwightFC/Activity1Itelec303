{
 "cells": [
  {
   "cell_type": "markdown",
   "id": "f79f00d0-38a6-402b-b105-b20bbc428650",
   "metadata": {},
   "source": [
    "<h1>MIDTERM EXAM: Chicago Crime Trends: 2024-2025 Data Analytics Project</h1>\n",
    "<h3> ANALYST: Dwight Francis M. Caña</h3>"
   ]
  },
  {
   "cell_type": "code",
   "execution_count": 4,
   "id": "d0c4b8bb-3fc7-4249-8d2e-83821273ee12",
   "metadata": {},
   "outputs": [],
   "source": [
    "import numpy as np\n",
    "import pandas as pd\n",
    "import matplotlib.pyplot as plt\n",
    "import seaborn as sns\n",
    "import folium\n",
    "from folium.plugins import HeatMap\n",
    "from folium.plugins import HeatMapWithTime\n",
    "import warnings\n",
    "warnings.filterwarnings('ignore')"
   ]
  },
  {
   "cell_type": "code",
   "execution_count": 3,
   "id": "25442c51-fbcf-4601-aac8-169d1d209476",
   "metadata": {},
   "outputs": [],
   "source": [
    "df = pd.read_csv('Chicago_Crimes.csv')"
   ]
  },
  {
   "cell_type": "code",
   "execution_count": 9,
   "id": "23fc339c-c8f8-4e83-ae27-fb63ec52d235",
   "metadata": {},
   "outputs": [
    {
     "data": {
      "text/html": [
       "<div>\n",
       "<style scoped>\n",
       "    .dataframe tbody tr th:only-of-type {\n",
       "        vertical-align: middle;\n",
       "    }\n",
       "\n",
       "    .dataframe tbody tr th {\n",
       "        vertical-align: top;\n",
       "    }\n",
       "\n",
       "    .dataframe thead th {\n",
       "        text-align: right;\n",
       "    }\n",
       "</style>\n",
       "<table border=\"1\" class=\"dataframe\">\n",
       "  <thead>\n",
       "    <tr style=\"text-align: right;\">\n",
       "      <th></th>\n",
       "      <th>ID</th>\n",
       "      <th>Case Number</th>\n",
       "      <th>Date</th>\n",
       "      <th>Block</th>\n",
       "      <th>IUCR</th>\n",
       "      <th>Primary Type</th>\n",
       "      <th>Description</th>\n",
       "      <th>Location Description</th>\n",
       "      <th>Arrest</th>\n",
       "      <th>Domestic</th>\n",
       "      <th>...</th>\n",
       "      <th>Ward</th>\n",
       "      <th>Community Area</th>\n",
       "      <th>FBI Code</th>\n",
       "      <th>X Coordinate</th>\n",
       "      <th>Y Coordinate</th>\n",
       "      <th>Year</th>\n",
       "      <th>Updated On</th>\n",
       "      <th>Latitude</th>\n",
       "      <th>Longitude</th>\n",
       "      <th>Location</th>\n",
       "    </tr>\n",
       "  </thead>\n",
       "  <tbody>\n",
       "    <tr>\n",
       "      <th>0</th>\n",
       "      <td>13439321</td>\n",
       "      <td>JH237424</td>\n",
       "      <td>04/14/2024 12:00:00 AM</td>\n",
       "      <td>040XX S PRAIRIE AVE</td>\n",
       "      <td>0890</td>\n",
       "      <td>THEFT</td>\n",
       "      <td>FROM BUILDING</td>\n",
       "      <td>APARTMENT</td>\n",
       "      <td>False</td>\n",
       "      <td>False</td>\n",
       "      <td>...</td>\n",
       "      <td>3</td>\n",
       "      <td>38.0</td>\n",
       "      <td>06</td>\n",
       "      <td>1178707.0</td>\n",
       "      <td>1878256.0</td>\n",
       "      <td>2024</td>\n",
       "      <td>12/21/2024 03:40:46 PM</td>\n",
       "      <td>41.821236</td>\n",
       "      <td>-87.619921</td>\n",
       "      <td>(41.821236024, -87.619920712)</td>\n",
       "    </tr>\n",
       "    <tr>\n",
       "      <th>1</th>\n",
       "      <td>13437420</td>\n",
       "      <td>JH234779</td>\n",
       "      <td>04/14/2024 12:00:00 AM</td>\n",
       "      <td>023XX W CERMAK RD</td>\n",
       "      <td>2825</td>\n",
       "      <td>OTHER OFFENSE</td>\n",
       "      <td>HARASSMENT BY TELEPHONE</td>\n",
       "      <td>COMMERCIAL / BUSINESS OFFICE</td>\n",
       "      <td>False</td>\n",
       "      <td>False</td>\n",
       "      <td>...</td>\n",
       "      <td>25</td>\n",
       "      <td>31.0</td>\n",
       "      <td>26</td>\n",
       "      <td>1161210.0</td>\n",
       "      <td>1889347.0</td>\n",
       "      <td>2024</td>\n",
       "      <td>12/21/2024 03:40:46 PM</td>\n",
       "      <td>41.852052</td>\n",
       "      <td>-87.683801</td>\n",
       "      <td>(41.852051675, -87.683800849)</td>\n",
       "    </tr>\n",
       "    <tr>\n",
       "      <th>2</th>\n",
       "      <td>13428676</td>\n",
       "      <td>JH224478</td>\n",
       "      <td>04/14/2024 12:00:00 AM</td>\n",
       "      <td>043XX W LE MOYNE ST</td>\n",
       "      <td>0917</td>\n",
       "      <td>MOTOR VEHICLE THEFT</td>\n",
       "      <td>CYCLE, SCOOTER, BIKE WITH VIN</td>\n",
       "      <td>STREET</td>\n",
       "      <td>False</td>\n",
       "      <td>False</td>\n",
       "      <td>...</td>\n",
       "      <td>36</td>\n",
       "      <td>23.0</td>\n",
       "      <td>07</td>\n",
       "      <td>1146960.0</td>\n",
       "      <td>1909501.0</td>\n",
       "      <td>2024</td>\n",
       "      <td>12/21/2024 03:40:46 PM</td>\n",
       "      <td>41.907640</td>\n",
       "      <td>-87.735587</td>\n",
       "      <td>(41.907640473, -87.735587478)</td>\n",
       "    </tr>\n",
       "    <tr>\n",
       "      <th>3</th>\n",
       "      <td>13429357</td>\n",
       "      <td>JH225293</td>\n",
       "      <td>04/14/2024 12:00:00 AM</td>\n",
       "      <td>039XX W ADAMS ST</td>\n",
       "      <td>143A</td>\n",
       "      <td>WEAPONS VIOLATION</td>\n",
       "      <td>UNLAWFUL POSSESSION - HANDGUN</td>\n",
       "      <td>STREET</td>\n",
       "      <td>True</td>\n",
       "      <td>False</td>\n",
       "      <td>...</td>\n",
       "      <td>28</td>\n",
       "      <td>26.0</td>\n",
       "      <td>15</td>\n",
       "      <td>1150158.0</td>\n",
       "      <td>1898721.0</td>\n",
       "      <td>2024</td>\n",
       "      <td>12/21/2024 03:40:46 PM</td>\n",
       "      <td>41.877997</td>\n",
       "      <td>-87.724121</td>\n",
       "      <td>(41.877997275, -87.724120826)</td>\n",
       "    </tr>\n",
       "    <tr>\n",
       "      <th>4</th>\n",
       "      <td>13430098</td>\n",
       "      <td>JH226395</td>\n",
       "      <td>04/14/2024 12:00:00 AM</td>\n",
       "      <td>011XX W 112TH PL</td>\n",
       "      <td>0890</td>\n",
       "      <td>THEFT</td>\n",
       "      <td>FROM BUILDING</td>\n",
       "      <td>RESIDENCE</td>\n",
       "      <td>False</td>\n",
       "      <td>False</td>\n",
       "      <td>...</td>\n",
       "      <td>21</td>\n",
       "      <td>75.0</td>\n",
       "      <td>06</td>\n",
       "      <td>1170856.0</td>\n",
       "      <td>1830157.0</td>\n",
       "      <td>2024</td>\n",
       "      <td>12/21/2024 03:40:46 PM</td>\n",
       "      <td>41.689421</td>\n",
       "      <td>-87.650123</td>\n",
       "      <td>(41.6894214, -87.650123247)</td>\n",
       "    </tr>\n",
       "    <tr>\n",
       "      <th>...</th>\n",
       "      <td>...</td>\n",
       "      <td>...</td>\n",
       "      <td>...</td>\n",
       "      <td>...</td>\n",
       "      <td>...</td>\n",
       "      <td>...</td>\n",
       "      <td>...</td>\n",
       "      <td>...</td>\n",
       "      <td>...</td>\n",
       "      <td>...</td>\n",
       "      <td>...</td>\n",
       "      <td>...</td>\n",
       "      <td>...</td>\n",
       "      <td>...</td>\n",
       "      <td>...</td>\n",
       "      <td>...</td>\n",
       "      <td>...</td>\n",
       "      <td>...</td>\n",
       "      <td>...</td>\n",
       "      <td>...</td>\n",
       "      <td>...</td>\n",
       "    </tr>\n",
       "    <tr>\n",
       "      <th>249118</th>\n",
       "      <td>13805239</td>\n",
       "      <td>JJ217509</td>\n",
       "      <td>04/12/2025 12:00:00 AM</td>\n",
       "      <td>029XX W LOGAN BLVD</td>\n",
       "      <td>2826</td>\n",
       "      <td>OTHER OFFENSE</td>\n",
       "      <td>HARASSMENT BY ELECTRONIC MEANS</td>\n",
       "      <td>APARTMENT</td>\n",
       "      <td>False</td>\n",
       "      <td>False</td>\n",
       "      <td>...</td>\n",
       "      <td>1</td>\n",
       "      <td>22.0</td>\n",
       "      <td>26</td>\n",
       "      <td>1156478.0</td>\n",
       "      <td>1917149.0</td>\n",
       "      <td>2025</td>\n",
       "      <td>04/19/2025 03:41:24 PM</td>\n",
       "      <td>41.928440</td>\n",
       "      <td>-87.700416</td>\n",
       "      <td>(41.928439867, -87.700415972)</td>\n",
       "    </tr>\n",
       "    <tr>\n",
       "      <th>249119</th>\n",
       "      <td>13804023</td>\n",
       "      <td>JJ215813</td>\n",
       "      <td>04/12/2025 12:00:00 AM</td>\n",
       "      <td>094XX S HARVARD AVE</td>\n",
       "      <td>0430</td>\n",
       "      <td>BATTERY</td>\n",
       "      <td>AGGRAVATED - OTHER DANGEROUS WEAPON</td>\n",
       "      <td>STREET</td>\n",
       "      <td>False</td>\n",
       "      <td>False</td>\n",
       "      <td>...</td>\n",
       "      <td>9</td>\n",
       "      <td>49.0</td>\n",
       "      <td>04B</td>\n",
       "      <td>1175694.0</td>\n",
       "      <td>1842631.0</td>\n",
       "      <td>2025</td>\n",
       "      <td>04/19/2025 03:41:24 PM</td>\n",
       "      <td>41.723545</td>\n",
       "      <td>-87.632040</td>\n",
       "      <td>(41.723545182, -87.632039508)</td>\n",
       "    </tr>\n",
       "    <tr>\n",
       "      <th>249120</th>\n",
       "      <td>13803926</td>\n",
       "      <td>JJ215943</td>\n",
       "      <td>04/12/2025 12:00:00 AM</td>\n",
       "      <td>084XX S VINCENNES AVE</td>\n",
       "      <td>0486</td>\n",
       "      <td>BATTERY</td>\n",
       "      <td>DOMESTIC BATTERY SIMPLE</td>\n",
       "      <td>APARTMENT</td>\n",
       "      <td>False</td>\n",
       "      <td>True</td>\n",
       "      <td>...</td>\n",
       "      <td>21</td>\n",
       "      <td>71.0</td>\n",
       "      <td>08B</td>\n",
       "      <td>1173850.0</td>\n",
       "      <td>1848976.0</td>\n",
       "      <td>2025</td>\n",
       "      <td>04/19/2025 03:41:24 PM</td>\n",
       "      <td>41.740998</td>\n",
       "      <td>-87.638606</td>\n",
       "      <td>(41.74099774, -87.638606337)</td>\n",
       "    </tr>\n",
       "    <tr>\n",
       "      <th>249121</th>\n",
       "      <td>13803475</td>\n",
       "      <td>JJ215338</td>\n",
       "      <td>04/12/2025 12:00:00 AM</td>\n",
       "      <td>050XX S ABERDEEN ST</td>\n",
       "      <td>0530</td>\n",
       "      <td>ASSAULT</td>\n",
       "      <td>AGGRAVATED - OTHER DANGEROUS WEAPON</td>\n",
       "      <td>STREET</td>\n",
       "      <td>True</td>\n",
       "      <td>False</td>\n",
       "      <td>...</td>\n",
       "      <td>20</td>\n",
       "      <td>61.0</td>\n",
       "      <td>04A</td>\n",
       "      <td>1169838.0</td>\n",
       "      <td>1871348.0</td>\n",
       "      <td>2025</td>\n",
       "      <td>04/19/2025 03:41:24 PM</td>\n",
       "      <td>41.802477</td>\n",
       "      <td>-87.652657</td>\n",
       "      <td>(41.802477219, -87.652657244)</td>\n",
       "    </tr>\n",
       "    <tr>\n",
       "      <th>249122</th>\n",
       "      <td>13804512</td>\n",
       "      <td>JJ216668</td>\n",
       "      <td>04/12/2025 12:00:00 AM</td>\n",
       "      <td>012XX W CARROLL AVE</td>\n",
       "      <td>0710</td>\n",
       "      <td>THEFT</td>\n",
       "      <td>THEFT FROM MOTOR VEHICLE</td>\n",
       "      <td>STREET</td>\n",
       "      <td>False</td>\n",
       "      <td>False</td>\n",
       "      <td>...</td>\n",
       "      <td>27</td>\n",
       "      <td>28.0</td>\n",
       "      <td>06</td>\n",
       "      <td>1168216.0</td>\n",
       "      <td>1902390.0</td>\n",
       "      <td>2025</td>\n",
       "      <td>04/19/2025 03:41:24 PM</td>\n",
       "      <td>41.887694</td>\n",
       "      <td>-87.657710</td>\n",
       "      <td>(41.887694407, -87.657710204)</td>\n",
       "    </tr>\n",
       "  </tbody>\n",
       "</table>\n",
       "<p>249123 rows × 22 columns</p>\n",
       "</div>"
      ],
      "text/plain": [
       "              ID Case Number                    Date                  Block  \\\n",
       "0       13439321    JH237424  04/14/2024 12:00:00 AM    040XX S PRAIRIE AVE   \n",
       "1       13437420    JH234779  04/14/2024 12:00:00 AM      023XX W CERMAK RD   \n",
       "2       13428676    JH224478  04/14/2024 12:00:00 AM    043XX W LE MOYNE ST   \n",
       "3       13429357    JH225293  04/14/2024 12:00:00 AM       039XX W ADAMS ST   \n",
       "4       13430098    JH226395  04/14/2024 12:00:00 AM       011XX W 112TH PL   \n",
       "...          ...         ...                     ...                    ...   \n",
       "249118  13805239    JJ217509  04/12/2025 12:00:00 AM     029XX W LOGAN BLVD   \n",
       "249119  13804023    JJ215813  04/12/2025 12:00:00 AM    094XX S HARVARD AVE   \n",
       "249120  13803926    JJ215943  04/12/2025 12:00:00 AM  084XX S VINCENNES AVE   \n",
       "249121  13803475    JJ215338  04/12/2025 12:00:00 AM    050XX S ABERDEEN ST   \n",
       "249122  13804512    JJ216668  04/12/2025 12:00:00 AM    012XX W CARROLL AVE   \n",
       "\n",
       "        IUCR         Primary Type                          Description  \\\n",
       "0       0890                THEFT                        FROM BUILDING   \n",
       "1       2825        OTHER OFFENSE              HARASSMENT BY TELEPHONE   \n",
       "2       0917  MOTOR VEHICLE THEFT        CYCLE, SCOOTER, BIKE WITH VIN   \n",
       "3       143A    WEAPONS VIOLATION        UNLAWFUL POSSESSION - HANDGUN   \n",
       "4       0890                THEFT                        FROM BUILDING   \n",
       "...      ...                  ...                                  ...   \n",
       "249118  2826        OTHER OFFENSE       HARASSMENT BY ELECTRONIC MEANS   \n",
       "249119  0430              BATTERY  AGGRAVATED - OTHER DANGEROUS WEAPON   \n",
       "249120  0486              BATTERY              DOMESTIC BATTERY SIMPLE   \n",
       "249121  0530              ASSAULT  AGGRAVATED - OTHER DANGEROUS WEAPON   \n",
       "249122  0710                THEFT             THEFT FROM MOTOR VEHICLE   \n",
       "\n",
       "                Location Description  Arrest  Domestic  ...  Ward  \\\n",
       "0                          APARTMENT   False     False  ...     3   \n",
       "1       COMMERCIAL / BUSINESS OFFICE   False     False  ...    25   \n",
       "2                             STREET   False     False  ...    36   \n",
       "3                             STREET    True     False  ...    28   \n",
       "4                          RESIDENCE   False     False  ...    21   \n",
       "...                              ...     ...       ...  ...   ...   \n",
       "249118                     APARTMENT   False     False  ...     1   \n",
       "249119                        STREET   False     False  ...     9   \n",
       "249120                     APARTMENT   False      True  ...    21   \n",
       "249121                        STREET    True     False  ...    20   \n",
       "249122                        STREET   False     False  ...    27   \n",
       "\n",
       "        Community Area  FBI Code  X Coordinate Y Coordinate  Year  \\\n",
       "0                 38.0        06     1178707.0    1878256.0  2024   \n",
       "1                 31.0        26     1161210.0    1889347.0  2024   \n",
       "2                 23.0        07     1146960.0    1909501.0  2024   \n",
       "3                 26.0        15     1150158.0    1898721.0  2024   \n",
       "4                 75.0        06     1170856.0    1830157.0  2024   \n",
       "...                ...       ...           ...          ...   ...   \n",
       "249118            22.0        26     1156478.0    1917149.0  2025   \n",
       "249119            49.0       04B     1175694.0    1842631.0  2025   \n",
       "249120            71.0       08B     1173850.0    1848976.0  2025   \n",
       "249121            61.0       04A     1169838.0    1871348.0  2025   \n",
       "249122            28.0        06     1168216.0    1902390.0  2025   \n",
       "\n",
       "                    Updated On   Latitude  Longitude  \\\n",
       "0       12/21/2024 03:40:46 PM  41.821236 -87.619921   \n",
       "1       12/21/2024 03:40:46 PM  41.852052 -87.683801   \n",
       "2       12/21/2024 03:40:46 PM  41.907640 -87.735587   \n",
       "3       12/21/2024 03:40:46 PM  41.877997 -87.724121   \n",
       "4       12/21/2024 03:40:46 PM  41.689421 -87.650123   \n",
       "...                        ...        ...        ...   \n",
       "249118  04/19/2025 03:41:24 PM  41.928440 -87.700416   \n",
       "249119  04/19/2025 03:41:24 PM  41.723545 -87.632040   \n",
       "249120  04/19/2025 03:41:24 PM  41.740998 -87.638606   \n",
       "249121  04/19/2025 03:41:24 PM  41.802477 -87.652657   \n",
       "249122  04/19/2025 03:41:24 PM  41.887694 -87.657710   \n",
       "\n",
       "                             Location  \n",
       "0       (41.821236024, -87.619920712)  \n",
       "1       (41.852051675, -87.683800849)  \n",
       "2       (41.907640473, -87.735587478)  \n",
       "3       (41.877997275, -87.724120826)  \n",
       "4         (41.6894214, -87.650123247)  \n",
       "...                               ...  \n",
       "249118  (41.928439867, -87.700415972)  \n",
       "249119  (41.723545182, -87.632039508)  \n",
       "249120   (41.74099774, -87.638606337)  \n",
       "249121  (41.802477219, -87.652657244)  \n",
       "249122  (41.887694407, -87.657710204)  \n",
       "\n",
       "[249123 rows x 22 columns]"
      ]
     },
     "execution_count": 9,
     "metadata": {},
     "output_type": "execute_result"
    }
   ],
   "source": [
    "df"
   ]
  },
  {
   "cell_type": "code",
   "execution_count": 7,
   "id": "50882216-821a-4acf-871b-da4384361b46",
   "metadata": {},
   "outputs": [
    {
     "data": {
      "text/plain": [
       "ID                        int64\n",
       "Case Number              object\n",
       "Date                     object\n",
       "Block                    object\n",
       "IUCR                     object\n",
       "Primary Type             object\n",
       "Description              object\n",
       "Location Description     object\n",
       "Arrest                     bool\n",
       "Domestic                   bool\n",
       "Beat                      int64\n",
       "District                  int64\n",
       "Ward                      int64\n",
       "Community Area          float64\n",
       "FBI Code                 object\n",
       "X Coordinate            float64\n",
       "Y Coordinate            float64\n",
       "Year                      int64\n",
       "Updated On               object\n",
       "Latitude                float64\n",
       "Longitude               float64\n",
       "Location                 object\n",
       "dtype: object"
      ]
     },
     "execution_count": 7,
     "metadata": {},
     "output_type": "execute_result"
    }
   ],
   "source": [
    "df.dtypes"
   ]
  },
  {
   "cell_type": "code",
   "execution_count": 8,
   "id": "b1ea50d8-766e-486a-8936-9fa6c4f753f1",
   "metadata": {},
   "outputs": [
    {
     "data": {
      "text/plain": [
       "<bound method NDFrame.describe of               ID Case Number                    Date                  Block  \\\n",
       "0       13439321    JH237424  04/14/2024 12:00:00 AM    040XX S PRAIRIE AVE   \n",
       "1       13437420    JH234779  04/14/2024 12:00:00 AM      023XX W CERMAK RD   \n",
       "2       13428676    JH224478  04/14/2024 12:00:00 AM    043XX W LE MOYNE ST   \n",
       "3       13429357    JH225293  04/14/2024 12:00:00 AM       039XX W ADAMS ST   \n",
       "4       13430098    JH226395  04/14/2024 12:00:00 AM       011XX W 112TH PL   \n",
       "...          ...         ...                     ...                    ...   \n",
       "249118  13805239    JJ217509  04/12/2025 12:00:00 AM     029XX W LOGAN BLVD   \n",
       "249119  13804023    JJ215813  04/12/2025 12:00:00 AM    094XX S HARVARD AVE   \n",
       "249120  13803926    JJ215943  04/12/2025 12:00:00 AM  084XX S VINCENNES AVE   \n",
       "249121  13803475    JJ215338  04/12/2025 12:00:00 AM    050XX S ABERDEEN ST   \n",
       "249122  13804512    JJ216668  04/12/2025 12:00:00 AM    012XX W CARROLL AVE   \n",
       "\n",
       "        IUCR         Primary Type                          Description  \\\n",
       "0       0890                THEFT                        FROM BUILDING   \n",
       "1       2825        OTHER OFFENSE              HARASSMENT BY TELEPHONE   \n",
       "2       0917  MOTOR VEHICLE THEFT        CYCLE, SCOOTER, BIKE WITH VIN   \n",
       "3       143A    WEAPONS VIOLATION        UNLAWFUL POSSESSION - HANDGUN   \n",
       "4       0890                THEFT                        FROM BUILDING   \n",
       "...      ...                  ...                                  ...   \n",
       "249118  2826        OTHER OFFENSE       HARASSMENT BY ELECTRONIC MEANS   \n",
       "249119  0430              BATTERY  AGGRAVATED - OTHER DANGEROUS WEAPON   \n",
       "249120  0486              BATTERY              DOMESTIC BATTERY SIMPLE   \n",
       "249121  0530              ASSAULT  AGGRAVATED - OTHER DANGEROUS WEAPON   \n",
       "249122  0710                THEFT             THEFT FROM MOTOR VEHICLE   \n",
       "\n",
       "                Location Description  Arrest  Domestic  ...  Ward  \\\n",
       "0                          APARTMENT   False     False  ...     3   \n",
       "1       COMMERCIAL / BUSINESS OFFICE   False     False  ...    25   \n",
       "2                             STREET   False     False  ...    36   \n",
       "3                             STREET    True     False  ...    28   \n",
       "4                          RESIDENCE   False     False  ...    21   \n",
       "...                              ...     ...       ...  ...   ...   \n",
       "249118                     APARTMENT   False     False  ...     1   \n",
       "249119                        STREET   False     False  ...     9   \n",
       "249120                     APARTMENT   False      True  ...    21   \n",
       "249121                        STREET    True     False  ...    20   \n",
       "249122                        STREET   False     False  ...    27   \n",
       "\n",
       "        Community Area  FBI Code  X Coordinate Y Coordinate  Year  \\\n",
       "0                 38.0        06     1178707.0    1878256.0  2024   \n",
       "1                 31.0        26     1161210.0    1889347.0  2024   \n",
       "2                 23.0        07     1146960.0    1909501.0  2024   \n",
       "3                 26.0        15     1150158.0    1898721.0  2024   \n",
       "4                 75.0        06     1170856.0    1830157.0  2024   \n",
       "...                ...       ...           ...          ...   ...   \n",
       "249118            22.0        26     1156478.0    1917149.0  2025   \n",
       "249119            49.0       04B     1175694.0    1842631.0  2025   \n",
       "249120            71.0       08B     1173850.0    1848976.0  2025   \n",
       "249121            61.0       04A     1169838.0    1871348.0  2025   \n",
       "249122            28.0        06     1168216.0    1902390.0  2025   \n",
       "\n",
       "                    Updated On   Latitude  Longitude  \\\n",
       "0       12/21/2024 03:40:46 PM  41.821236 -87.619921   \n",
       "1       12/21/2024 03:40:46 PM  41.852052 -87.683801   \n",
       "2       12/21/2024 03:40:46 PM  41.907640 -87.735587   \n",
       "3       12/21/2024 03:40:46 PM  41.877997 -87.724121   \n",
       "4       12/21/2024 03:40:46 PM  41.689421 -87.650123   \n",
       "...                        ...        ...        ...   \n",
       "249118  04/19/2025 03:41:24 PM  41.928440 -87.700416   \n",
       "249119  04/19/2025 03:41:24 PM  41.723545 -87.632040   \n",
       "249120  04/19/2025 03:41:24 PM  41.740998 -87.638606   \n",
       "249121  04/19/2025 03:41:24 PM  41.802477 -87.652657   \n",
       "249122  04/19/2025 03:41:24 PM  41.887694 -87.657710   \n",
       "\n",
       "                             Location  \n",
       "0       (41.821236024, -87.619920712)  \n",
       "1       (41.852051675, -87.683800849)  \n",
       "2       (41.907640473, -87.735587478)  \n",
       "3       (41.877997275, -87.724120826)  \n",
       "4         (41.6894214, -87.650123247)  \n",
       "...                               ...  \n",
       "249118  (41.928439867, -87.700415972)  \n",
       "249119  (41.723545182, -87.632039508)  \n",
       "249120   (41.74099774, -87.638606337)  \n",
       "249121  (41.802477219, -87.652657244)  \n",
       "249122  (41.887694407, -87.657710204)  \n",
       "\n",
       "[249123 rows x 22 columns]>"
      ]
     },
     "execution_count": 8,
     "metadata": {},
     "output_type": "execute_result"
    }
   ],
   "source": [
    "df.describe"
   ]
  },
  {
   "cell_type": "code",
   "execution_count": 10,
   "id": "6b60b036-155e-45fb-a685-2128f73a161f",
   "metadata": {},
   "outputs": [
    {
     "data": {
      "text/plain": [
       "ID                        0\n",
       "Case Number               0\n",
       "Date                      0\n",
       "Block                     0\n",
       "IUCR                      0\n",
       "Primary Type              0\n",
       "Description               0\n",
       "Location Description    857\n",
       "Arrest                    0\n",
       "Domestic                  0\n",
       "Beat                      0\n",
       "District                  0\n",
       "Ward                      0\n",
       "Community Area            3\n",
       "FBI Code                  0\n",
       "X Coordinate             90\n",
       "Y Coordinate             90\n",
       "Year                      0\n",
       "Updated On                0\n",
       "Latitude                 90\n",
       "Longitude                90\n",
       "Location                 90\n",
       "dtype: int64"
      ]
     },
     "execution_count": 10,
     "metadata": {},
     "output_type": "execute_result"
    }
   ],
   "source": [
    "df.isnull().sum()"
   ]
  },
  {
   "cell_type": "code",
   "execution_count": 12,
   "id": "3835963f-9541-48de-a698-9da2372e9f4b",
   "metadata": {},
   "outputs": [
    {
     "data": {
      "text/plain": [
       "ID                      0\n",
       "Case Number             0\n",
       "Date                    0\n",
       "Block                   0\n",
       "IUCR                    0\n",
       "Primary Type            0\n",
       "Description             0\n",
       "Location Description    0\n",
       "Arrest                  0\n",
       "Domestic                0\n",
       "Beat                    0\n",
       "District                0\n",
       "Ward                    0\n",
       "Community Area          0\n",
       "FBI Code                0\n",
       "X Coordinate            0\n",
       "Y Coordinate            0\n",
       "Year                    0\n",
       "Updated On              0\n",
       "Latitude                0\n",
       "Longitude               0\n",
       "Location                0\n",
       "dtype: int64"
      ]
     },
     "execution_count": 12,
     "metadata": {},
     "output_type": "execute_result"
    }
   ],
   "source": [
    "mode_loc = df['Location Description'].mode()[0]\n",
    "df['Location Description'].fillna(mode_loc, inplace=True)\n",
    "\n",
    "mode_dist = df['District'].mode()[0]\n",
    "df['District'].fillna(mode_dist, inplace=True)\n",
    "\n",
    "mode_area = df['Community Area'].mode()[0]\n",
    "df['Community Area'].fillna(mode_area, inplace=True)\n",
    "\n",
    "mean_x = df['X Coordinate'].mean()\n",
    "df['X Coordinate'].fillna(mean_x, inplace=True)\n",
    "\n",
    "mean_y = df['Y Coordinate'].mean()\n",
    "df['Y Coordinate'].fillna(mean_y, inplace=True)\n",
    "\n",
    "mean_lat = df['Latitude'].mean()\n",
    "df['Latitude'].fillna(mean_lat, inplace=True)\n",
    "\n",
    "mean_lon = df['Longitude'].mean()\n",
    "df['Longitude'].fillna(mean_lon, inplace=True)\n",
    "\n",
    "df['Location'].fillna('Unknown', inplace=True)\n",
    "\n",
    "df.isnull().sum()"
   ]
  },
  {
   "cell_type": "code",
   "execution_count": 13,
   "id": "68087368-3092-41bc-8c21-5af008dec627",
   "metadata": {},
   "outputs": [],
   "source": [
    "df['ID'] = df['ID'].astype('int')\n",
    "df['Case Number'] = df['Case Number'].astype('string')\n",
    "df['Date'] = df['Date'].astype('str')\n",
    "df['Date'] = df['Date'].str.replace('/', '-')\n",
    "df['Date'] = pd.to_datetime(df['Date'], dayfirst=True, errors='coerce')\n",
    "df['Block'] = df['Block'].astype('string')\n",
    "df['IUCR'] = df['IUCR'].astype('string')\n",
    "df['Primary Type'] = df['Primary Type'].astype('string')\n",
    "df['Description'] = df['Description'].astype('string')\n",
    "df['Location Description'] = df['Location Description'].astype('string')\n",
    "df['Arrest'] = df['Arrest'].astype('bool')\n",
    "df['Domestic'] = df['Domestic'].astype('bool')\n",
    "df['Beat'] = df['Beat'].astype('int')\n",
    "df['District'] = df['District'].astype('int')\n",
    "df['Ward'] = df['Ward'].astype('int')\n",
    "df['Community Area'] = df['Community Area'].astype('int')\n",
    "df['FBI Code'] = df['FBI Code'].astype('string')\n",
    "df['X Coordinate'] = df['X Coordinate'].astype('float')\n",
    "df['Y Coordinate'] = df['Y Coordinate'].astype('float')\n",
    "df['Year'] = df['Year'].astype('int')\n",
    "df['Updated On'] = pd.to_datetime(df['Updated On'], dayfirst=True, errors='coerce')\n",
    "df['Latitude'] = df['Latitude'].astype('float')\n",
    "df['Longitude'] = df['Longitude'].astype('float')\n",
    "df['Location'] = df['Location'].astype('string')"
   ]
  },
  {
   "cell_type": "code",
   "execution_count": 14,
   "id": "e268d43c-9a29-4cb0-b5a7-768fc0115dea",
   "metadata": {},
   "outputs": [
    {
     "data": {
      "text/html": [
       "<div>\n",
       "<style scoped>\n",
       "    .dataframe tbody tr th:only-of-type {\n",
       "        vertical-align: middle;\n",
       "    }\n",
       "\n",
       "    .dataframe tbody tr th {\n",
       "        vertical-align: top;\n",
       "    }\n",
       "\n",
       "    .dataframe thead th {\n",
       "        text-align: right;\n",
       "    }\n",
       "</style>\n",
       "<table border=\"1\" class=\"dataframe\">\n",
       "  <thead>\n",
       "    <tr style=\"text-align: right;\">\n",
       "      <th></th>\n",
       "      <th>Date</th>\n",
       "      <th>Year</th>\n",
       "      <th>Month</th>\n",
       "      <th>Month_Name</th>\n",
       "      <th>Day</th>\n",
       "      <th>Week</th>\n",
       "      <th>Day_Name</th>\n",
       "      <th>Hour</th>\n",
       "      <th>Hour_Label</th>\n",
       "    </tr>\n",
       "  </thead>\n",
       "  <tbody>\n",
       "    <tr>\n",
       "      <th>0</th>\n",
       "      <td>2024-04-14</td>\n",
       "      <td>2024</td>\n",
       "      <td>4</td>\n",
       "      <td>April</td>\n",
       "      <td>14</td>\n",
       "      <td>15</td>\n",
       "      <td>Sunday</td>\n",
       "      <td>0</td>\n",
       "      <td>12 AM</td>\n",
       "    </tr>\n",
       "    <tr>\n",
       "      <th>1</th>\n",
       "      <td>2024-04-14</td>\n",
       "      <td>2024</td>\n",
       "      <td>4</td>\n",
       "      <td>April</td>\n",
       "      <td>14</td>\n",
       "      <td>15</td>\n",
       "      <td>Sunday</td>\n",
       "      <td>0</td>\n",
       "      <td>12 AM</td>\n",
       "    </tr>\n",
       "    <tr>\n",
       "      <th>2</th>\n",
       "      <td>2024-04-14</td>\n",
       "      <td>2024</td>\n",
       "      <td>4</td>\n",
       "      <td>April</td>\n",
       "      <td>14</td>\n",
       "      <td>15</td>\n",
       "      <td>Sunday</td>\n",
       "      <td>0</td>\n",
       "      <td>12 AM</td>\n",
       "    </tr>\n",
       "    <tr>\n",
       "      <th>3</th>\n",
       "      <td>2024-04-14</td>\n",
       "      <td>2024</td>\n",
       "      <td>4</td>\n",
       "      <td>April</td>\n",
       "      <td>14</td>\n",
       "      <td>15</td>\n",
       "      <td>Sunday</td>\n",
       "      <td>0</td>\n",
       "      <td>12 AM</td>\n",
       "    </tr>\n",
       "    <tr>\n",
       "      <th>4</th>\n",
       "      <td>2024-04-14</td>\n",
       "      <td>2024</td>\n",
       "      <td>4</td>\n",
       "      <td>April</td>\n",
       "      <td>14</td>\n",
       "      <td>15</td>\n",
       "      <td>Sunday</td>\n",
       "      <td>0</td>\n",
       "      <td>12 AM</td>\n",
       "    </tr>\n",
       "  </tbody>\n",
       "</table>\n",
       "</div>"
      ],
      "text/plain": [
       "        Date  Year  Month Month_Name  Day  Week Day_Name  Hour Hour_Label\n",
       "0 2024-04-14  2024      4      April   14    15   Sunday     0      12 AM\n",
       "1 2024-04-14  2024      4      April   14    15   Sunday     0      12 AM\n",
       "2 2024-04-14  2024      4      April   14    15   Sunday     0      12 AM\n",
       "3 2024-04-14  2024      4      April   14    15   Sunday     0      12 AM\n",
       "4 2024-04-14  2024      4      April   14    15   Sunday     0      12 AM"
      ]
     },
     "execution_count": 14,
     "metadata": {},
     "output_type": "execute_result"
    }
   ],
   "source": [
    "# extract parts of the date\n",
    "df['Year'] = df['Date'].dt.year\n",
    "df['Month'] = df['Date'].dt.month\n",
    "df['Month_Name'] = df['Date'].dt.month_name()\n",
    "df['Day'] = df['Date'].dt.day\n",
    "df['Week'] = df['Date'].dt.isocalendar().week\n",
    "df['Day_Name'] = df['Date'].dt.day_name()\n",
    "df['Hour'] = df['Date'].dt.hour\n",
    "\n",
    "hour_labels = {\n",
    "    0: \"12 AM\", 1: \"1 AM\", 2: \"2 AM\", 3: \"3 AM\", 4: \"4 AM\", 5: \"5 AM\",\n",
    "    6: \"6 AM\", 7: \"7 AM\", 8: \"8 AM\", 9: \"9 AM\", 10: \"10 AM\", 11: \"11 AM\",\n",
    "    12: \"12 PM\", 13: \"1 PM\", 14: \"2 PM\", 15: \"3 PM\", 16: \"4 PM\", 17: \"5 PM\",\n",
    "    18: \"6 PM\", 19: \"7 PM\", 20: \"8 PM\", 21: \"9 PM\", 22: \"10 PM\", 23: \"11 PM\"\n",
    "}\n",
    "df['Hour_Label'] = df['Hour'].map(hour_labels)\n",
    "\n",
    "df[['Date', 'Year', 'Month', 'Month_Name', 'Day', 'Week', 'Day_Name', 'Hour', 'Hour_Label']].head()"
   ]
  },
  {
   "cell_type": "markdown",
   "id": "1c57e1c2-4cf2-4596-815c-2d1afc4c3db4",
   "metadata": {},
   "source": [
    "<hr>\n",
    "<h2 style= \"color:yellow\">Data Analysis Questions</h2>"
   ]
  },
  {
   "cell_type": "markdown",
   "id": "b24bb8c3-d371-4045-b580-f2817839f07f",
   "metadata": {},
   "source": [
    "<h3>1. What type of crime is the most common?</h3>"
   ]
  },
  {
   "cell_type": "code",
   "execution_count": 17,
   "id": "2c2a6ec3-cd26-42ac-8fb3-0059820b7081",
   "metadata": {},
   "outputs": [
    {
     "data": {
      "text/plain": [
       "Primary Type\n",
       "THEFT                                59201\n",
       "BATTERY                              44579\n",
       "CRIMINAL DAMAGE                      27094\n",
       "ASSAULT                              22615\n",
       "MOTOR VEHICLE THEFT                  19604\n",
       "OTHER OFFENSE                        16781\n",
       "DECEPTIVE PRACTICE                   14991\n",
       "BURGLARY                              8443\n",
       "ROBBERY                               8200\n",
       "WEAPONS VIOLATION                     7164\n",
       "NARCOTICS                             6627\n",
       "CRIMINAL TRESPASS                     5045\n",
       "OFFENSE INVOLVING CHILDREN            1597\n",
       "CRIMINAL SEXUAL ASSAULT               1573\n",
       "SEX OFFENSE                           1210\n",
       "PUBLIC PEACE VIOLATION                1006\n",
       "INTERFERENCE WITH PUBLIC OFFICER       771\n",
       "HOMICIDE                               553\n",
       "STALKING                               520\n",
       "ARSON                                  452\n",
       "PROSTITUTION                           287\n",
       "CONCEALED CARRY LICENSE VIOLATION      249\n",
       "LIQUOR LAW VIOLATION                   192\n",
       "INTIMIDATION                           145\n",
       "KIDNAPPING                             105\n",
       "OBSCENITY                               53\n",
       "HUMAN TRAFFICKING                       24\n",
       "GAMBLING                                18\n",
       "PUBLIC INDECENCY                        13\n",
       "OTHER NARCOTIC VIOLATION                 7\n",
       "NON-CRIMINAL                             4\n",
       "Name: count, dtype: Int64"
      ]
     },
     "execution_count": 17,
     "metadata": {},
     "output_type": "execute_result"
    }
   ],
   "source": [
    "df['Primary Type'].value_counts()"
   ]
  },
  {
   "cell_type": "markdown",
   "id": "3499aa24-ce5d-46e9-9ce3-37ea52058ff7",
   "metadata": {},
   "source": [
    "<h4> No.1 insght:</h4>\n",
    "<p> The most common being theif making sense as it is a intention crime to benefit oneselves</p>\n",
    "<hr>"
   ]
  },
  {
   "cell_type": "markdown",
   "id": "2f2d1fdf-3ba9-4496-bd39-5d43b96e81be",
   "metadata": {},
   "source": [
    "<h4> No.2 insght:</h4>\n",
    "<p> following up with bettery and criminal damage, which go complimentary with other crimes. but most offend than not is due to irrational causes</p>\n",
    "<hr>"
   ]
  },
  {
   "cell_type": "markdown",
   "id": "34c55fea-24cf-4e03-8c5b-804547909079",
   "metadata": {},
   "source": [
    "<h4> No.3 insght:</h4>\n",
    "<p> the amount of battery compared to assult means most act of assult tend too escalate</p>\n",
    "<hr>"
   ]
  },
  {
   "cell_type": "markdown",
   "id": "c05dfa96-6749-43b6-a777-aa3cfbb5da97",
   "metadata": {},
   "source": [
    "<h3>2. Where is theft the most common?</h3>"
   ]
  },
  {
   "cell_type": "code",
   "execution_count": 22,
   "id": "0d9ef3cf-796a-466e-b94b-6597f7e92ed6",
   "metadata": {},
   "outputs": [
    {
     "data": {
      "text/plain": [
       "Location Description\n",
       "STREET                       13185\n",
       "APARTMENT                     7513\n",
       "SMALL RETAIL STORE            6680\n",
       "DEPARTMENT STORE              4726\n",
       "RESIDENCE                     4350\n",
       "                             ...  \n",
       "FARM                             2\n",
       "CEMETARY                         1\n",
       "POOL ROOM                        1\n",
       "CTA TRACKS - RIGHT OF WAY        1\n",
       "CREDIT UNION                     1\n",
       "Name: count, Length: 100, dtype: Int64"
      ]
     },
     "execution_count": 22,
     "metadata": {},
     "output_type": "execute_result"
    }
   ],
   "source": [
    "tdf=df[df['Primary Type'] == \"THEFT\"]\n",
    "tdf['Location Description'].value_counts()"
   ]
  },
  {
   "cell_type": "markdown",
   "id": "a0cdc375-762f-4ea0-95fc-0fd2bbd1af78",
   "metadata": {},
   "source": [
    "<h4> No.4 insght:</h4>\n",
    "<p> Street theft is the common as it simply relies on your physical ability to run away after snatching smth, compared to residential areas or stores where it can be more dangerous.</p>\n",
    "<hr>"
   ]
  },
  {
   "cell_type": "markdown",
   "id": "d4fb6dea-8710-44d1-93bc-06a492e5febd",
   "metadata": {},
   "source": [
    "<h3>3. what time in the day where theft happens</h3>"
   ]
  },
  {
   "cell_type": "code",
   "execution_count": 25,
   "id": "7056c4fc-4ec2-4ae0-9350-e43d4952e113",
   "metadata": {},
   "outputs": [
    {
     "data": {
      "text/html": [
       "<div>\n",
       "<style scoped>\n",
       "    .dataframe tbody tr th:only-of-type {\n",
       "        vertical-align: middle;\n",
       "    }\n",
       "\n",
       "    .dataframe tbody tr th {\n",
       "        vertical-align: top;\n",
       "    }\n",
       "\n",
       "    .dataframe thead th {\n",
       "        text-align: right;\n",
       "    }\n",
       "</style>\n",
       "<table border=\"1\" class=\"dataframe\">\n",
       "  <thead>\n",
       "    <tr style=\"text-align: right;\">\n",
       "      <th></th>\n",
       "      <th>theft most active</th>\n",
       "    </tr>\n",
       "    <tr>\n",
       "      <th>Time_of_Day</th>\n",
       "      <th></th>\n",
       "    </tr>\n",
       "  </thead>\n",
       "  <tbody>\n",
       "    <tr>\n",
       "      <th>Afternoon</th>\n",
       "      <td>31.6%</td>\n",
       "    </tr>\n",
       "    <tr>\n",
       "      <th>Morning</th>\n",
       "      <td>23.5%</td>\n",
       "    </tr>\n",
       "    <tr>\n",
       "      <th>Night</th>\n",
       "      <td>22.6%</td>\n",
       "    </tr>\n",
       "    <tr>\n",
       "      <th>Evening</th>\n",
       "      <td>22.3%</td>\n",
       "    </tr>\n",
       "  </tbody>\n",
       "</table>\n",
       "</div>"
      ],
      "text/plain": [
       "            theft most active\n",
       "Time_of_Day                  \n",
       "Afternoon               31.6%\n",
       "Morning                 23.5%\n",
       "Night                   22.6%\n",
       "Evening                 22.3%"
      ]
     },
     "execution_count": 25,
     "metadata": {},
     "output_type": "execute_result"
    }
   ],
   "source": [
    "def time_of_day(hour):\n",
    "    if 5 <= hour < 12:\n",
    "        return \"Morning\"\n",
    "    elif 12 <= hour < 17:\n",
    "        return \"Afternoon\"\n",
    "    elif 17 <= hour < 21:\n",
    "        return \"Evening\"\n",
    "    else:\n",
    "        return \"Night\"\n",
    "\n",
    "tdf['Time_of_Day'] = tdf['Hour'].apply(time_of_day)\n",
    "\n",
    "time_table = (tdf['Time_of_Day']\n",
    "              .value_counts(normalize=True)\n",
    "              .mul(100)\n",
    "              .round(1)\n",
    "              .astype(str) + '%')\n",
    "\n",
    "time_table.to_frame(name='theft most active')"
   ]
  },
  {
   "cell_type": "markdown",
   "id": "1b8692d4-9639-45d9-a30b-b0f635b5c49c",
   "metadata": {},
   "source": [
    "<h4> No.5 insght:</h4>\n",
    "<p> theft is most active during the afternoon as it makes sense since its the tiime where most people are on the street for lunch or a break</p>\n",
    "<hr>"
   ]
  },
  {
   "cell_type": "markdown",
   "id": "7dd03f2c-9a6e-4253-8e18-d99fd5caffd3",
   "metadata": {},
   "source": [
    "<h4> No.6 insght:</h4>\n",
    "<p> all others times are relatively the same so anytime of the day you can be a victim of theft</p>\n",
    "<hr>"
   ]
  },
  {
   "cell_type": "markdown",
   "id": "18a24c63-d8ff-4f49-87cd-f7dcb69bf187",
   "metadata": {},
   "source": [
    "<h3>4. What usually get stolen during a theft</h3>"
   ]
  },
  {
   "cell_type": "code",
   "execution_count": 30,
   "id": "69189213-c93b-472d-b621-bacaedc3cd4b",
   "metadata": {},
   "outputs": [
    {
     "data": {
      "text/html": [
       "<div>\n",
       "<style scoped>\n",
       "    .dataframe tbody tr th:only-of-type {\n",
       "        vertical-align: middle;\n",
       "    }\n",
       "\n",
       "    .dataframe tbody tr th {\n",
       "        vertical-align: top;\n",
       "    }\n",
       "\n",
       "    .dataframe thead th {\n",
       "        text-align: right;\n",
       "    }\n",
       "</style>\n",
       "<table border=\"1\" class=\"dataframe\">\n",
       "  <thead>\n",
       "    <tr style=\"text-align: right;\">\n",
       "      <th></th>\n",
       "      <th>Count</th>\n",
       "      <th>Percentage</th>\n",
       "    </tr>\n",
       "    <tr>\n",
       "      <th>Description</th>\n",
       "      <th></th>\n",
       "      <th></th>\n",
       "    </tr>\n",
       "  </thead>\n",
       "  <tbody>\n",
       "    <tr>\n",
       "      <th>$500 AND UNDER</th>\n",
       "      <td>17963</td>\n",
       "      <td>30.34%</td>\n",
       "    </tr>\n",
       "    <tr>\n",
       "      <th>OVER $500</th>\n",
       "      <td>16572</td>\n",
       "      <td>27.99%</td>\n",
       "    </tr>\n",
       "    <tr>\n",
       "      <th>RETAIL THEFT</th>\n",
       "      <td>14053</td>\n",
       "      <td>23.74%</td>\n",
       "    </tr>\n",
       "    <tr>\n",
       "      <th>FROM BUILDING</th>\n",
       "      <td>4941</td>\n",
       "      <td>8.35%</td>\n",
       "    </tr>\n",
       "    <tr>\n",
       "      <th>THEFT FROM MOTOR VEHICLE</th>\n",
       "      <td>3701</td>\n",
       "      <td>6.25%</td>\n",
       "    </tr>\n",
       "    <tr>\n",
       "      <th>POCKET-PICKING</th>\n",
       "      <td>1301</td>\n",
       "      <td>2.2%</td>\n",
       "    </tr>\n",
       "    <tr>\n",
       "      <th>ATTEMPT THEFT</th>\n",
       "      <td>349</td>\n",
       "      <td>0.59%</td>\n",
       "    </tr>\n",
       "    <tr>\n",
       "      <th>PURSE-SNATCHING</th>\n",
       "      <td>263</td>\n",
       "      <td>0.44%</td>\n",
       "    </tr>\n",
       "    <tr>\n",
       "      <th>DELIVERY CONTAINER THEFT</th>\n",
       "      <td>43</td>\n",
       "      <td>0.07%</td>\n",
       "    </tr>\n",
       "    <tr>\n",
       "      <th>FROM COIN-OPERATED MACHINE OR DEVICE</th>\n",
       "      <td>15</td>\n",
       "      <td>0.03%</td>\n",
       "    </tr>\n",
       "  </tbody>\n",
       "</table>\n",
       "</div>"
      ],
      "text/plain": [
       "                                      Count Percentage\n",
       "Description                                           \n",
       "$500 AND UNDER                        17963     30.34%\n",
       "OVER $500                             16572     27.99%\n",
       "RETAIL THEFT                          14053     23.74%\n",
       "FROM BUILDING                          4941      8.35%\n",
       "THEFT FROM MOTOR VEHICLE               3701      6.25%\n",
       "POCKET-PICKING                         1301       2.2%\n",
       "ATTEMPT THEFT                           349      0.59%\n",
       "PURSE-SNATCHING                         263      0.44%\n",
       "DELIVERY CONTAINER THEFT                 43      0.07%\n",
       "FROM COIN-OPERATED MACHINE OR DEVICE     15      0.03%"
      ]
     },
     "execution_count": 30,
     "metadata": {},
     "output_type": "execute_result"
    }
   ],
   "source": [
    "robbery_counts = tdf['Description'].value_counts().head(10)\n",
    "\n",
    "robbery_percent = round((robbery_counts / robbery_counts.sum()) * 100, 2).astype(str) + '%'\n",
    "\n",
    "robbery_table = pd.DataFrame({\n",
    "    'Count': robbery_counts,\n",
    "    'Percentage': robbery_percent\n",
    "})\n",
    "\n",
    "robbery_table"
   ]
  },
  {
   "cell_type": "markdown",
   "id": "09b12594-627f-406f-941f-c87037b4ab14",
   "metadata": {},
   "source": [
    "<h4> No.7 insght:</h4>\n",
    "<p> most commonly is money more likely being under 500$. with the idea of \"they wont notice a couple dollars missing right?\"</p>\n",
    "<hr>"
   ]
  },
  {
   "cell_type": "markdown",
   "id": "f9e80f32-f105-4fce-8dc0-50376bd3031e",
   "metadata": {},
   "source": [
    "<h4> No.8 insght:</h4>\n",
    "<p> retail theft and from building being the next common which is usually shoplifting.</p>\n",
    "<hr>"
   ]
  },
  {
   "cell_type": "markdown",
   "id": "f69da6c3-c583-4176-942b-8db71909a04e",
   "metadata": {},
   "source": [
    "<h4> No.9 insght:</h4>\n",
    "<p> the least common is coin operated machine as it contains mostly coins and usually in public and open spaces which isnt ideal for theifs. With delivery container theft where homes usaually got cameras or some other kind of security</p>\n",
    "<hr>"
   ]
  },
  {
   "cell_type": "markdown",
   "id": "869f8cd2-114c-4ac3-865e-a0a0d508ae2f",
   "metadata": {},
   "source": [
    "<h3>5. Cases of theft during 2024 and 2025</h3>"
   ]
  },
  {
   "cell_type": "code",
   "execution_count": 35,
   "id": "294c97af-edb9-491a-ae9a-3613c46bfe5a",
   "metadata": {},
   "outputs": [
    {
     "data": {
      "image/png": "[encoded data removed]",
      "text/plain": [
       "<Figure size 640x480 with 1 Axes>"
      ]
     },
     "metadata": {},
     "output_type": "display_data"
    }
   ],
   "source": [
    "mm2 = tdf.groupby(['Year', 'Month']).size().unstack(level=0)\n",
    "sns.lineplot(data=mm2)\n",
    "  \n",
    "plt.xticks(range(1, 13), ['Jan','Feb','Mar','Apr','May','Jun','Jul','Aug','Sep','Oct','Nov','Dec'])\n",
    "plt.legend(title='theft activeness', bbox_to_anchor = (1.05,1), loc='upper left')\n",
    "plt.grid(alpha=0.3)\n",
    "plt.show()"
   ]
  },
  {
   "cell_type": "markdown",
   "id": "fd91efbc-533f-46bf-95cc-1ac1e784b000",
   "metadata": {},
   "source": [
    "<h4> No.10 insght:</h4>\n",
    "<p> the cases between 2024 and 2025 seems to significatly decrease. </p>\n",
    "<hr>"
   ]
  },
  {
   "cell_type": "markdown",
   "id": "16711e78-f705-4a5a-851d-0690369adda9",
   "metadata": {},
   "source": [
    "<h4> No.11 insght:</h4>\n",
    "<p> the cases during march of 2024 had a massive spike and continous flow till suddenly dropping at the same month during 2025. lack of info to provide cause</p>\n",
    "<hr>"
   ]
  },
  {
   "cell_type": "markdown",
   "id": "f02f1523-9a42-4f5b-8537-90340b103c97",
   "metadata": {},
   "source": [
    "<h3>6. Do theft get arrested?</h3>"
   ]
  },
  {
   "cell_type": "code",
   "execution_count": 45,
   "id": "ba1c265a-7f54-4369-852c-869ba03d11e5",
   "metadata": {},
   "outputs": [
    {
     "data": {
      "text/html": [
       "<div>\n",
       "<style scoped>\n",
       "    .dataframe tbody tr th:only-of-type {\n",
       "        vertical-align: middle;\n",
       "    }\n",
       "\n",
       "    .dataframe tbody tr th {\n",
       "        vertical-align: top;\n",
       "    }\n",
       "\n",
       "    .dataframe thead th {\n",
       "        text-align: right;\n",
       "    }\n",
       "</style>\n",
       "<table border=\"1\" class=\"dataframe\">\n",
       "  <thead>\n",
       "    <tr style=\"text-align: right;\">\n",
       "      <th></th>\n",
       "      <th>Count</th>\n",
       "      <th>Percentage</th>\n",
       "    </tr>\n",
       "    <tr>\n",
       "      <th>Arrest</th>\n",
       "      <th></th>\n",
       "      <th></th>\n",
       "    </tr>\n",
       "  </thead>\n",
       "  <tbody>\n",
       "    <tr>\n",
       "      <th>False</th>\n",
       "      <td>54672</td>\n",
       "      <td>92.35%</td>\n",
       "    </tr>\n",
       "    <tr>\n",
       "      <th>True</th>\n",
       "      <td>4529</td>\n",
       "      <td>7.65%</td>\n",
       "    </tr>\n",
       "  </tbody>\n",
       "</table>\n",
       "</div>"
      ],
      "text/plain": [
       "        Count Percentage\n",
       "Arrest                  \n",
       "False   54672     92.35%\n",
       "True     4529      7.65%"
      ]
     },
     "execution_count": 45,
     "metadata": {},
     "output_type": "execute_result"
    }
   ],
   "source": [
    "ccc = tdf['Arrest'].value_counts().head(10)\n",
    "\n",
    "cp = round((ccc / ccc.sum()) * 100, 2).astype(str) + '%'\n",
    "\n",
    "arrsestiftheft = pd.DataFrame({\n",
    "    'Count': ccc,\n",
    "    'Percentage': cp\n",
    "})\n",
    "\n",
    "arrsestiftheft"
   ]
  },
  {
   "cell_type": "markdown",
   "id": "cf01330d-7255-4724-9460-142f0ac896c1",
   "metadata": {},
   "source": [
    "<h4> No.12 insght:</h4>\n",
    "<p> most theft cases arent arrested which follow-up investigation would cause more if the initial chase dint resolve it immidieatly.</p>\n",
    "<hr>"
   ]
  },
  {
   "cell_type": "markdown",
   "id": "1df5c3b2-84c8-4d8a-986f-dd5da4df6288",
   "metadata": {},
   "source": [
    "<h4> No.13 insght:</h4>\n",
    "<p> As probably why its the most common crime as people do get a way with it</p>\n",
    "<hr>"
   ]
  },
  {
   "cell_type": "markdown",
   "id": "3781d5a4-2c47-4570-b1da-3835b76824ca",
   "metadata": {},
   "source": [
    "<h4> No.14 insght:</h4>\n",
    "<p> getting arested with 10% chance will probaly make people want to do it again. they will get caught eventually but the longer it takes the more skillful the criminal will be after each case </p>\n",
    "<hr>"
   ]
  },
  {
   "cell_type": "markdown",
   "id": "c7817de9-d326-4377-aa74-52af326e28b0",
   "metadata": {},
   "source": [
    "<h3>6. The top 5 commited in different regions relatively</h3>"
   ]
  },
  {
   "cell_type": "code",
   "execution_count": 46,
   "id": "2e1a0aaa-5856-4371-adfa-24e33660a159",
   "metadata": {},
   "outputs": [
    {
     "data": {
      "image/png": "[encoded data removed]",
      "text/plain": [
       "<Figure size 1200x700 with 1 Axes>"
      ]
     },
     "metadata": {},
     "output_type": "display_data"
    }
   ],
   "source": [
    "top_types = df['Primary Type'].value_counts().head(5).index\n",
    "subset_df = df[df['Primary Type'].isin(top_types)].dropna(subset=['X Coordinate','Y Coordinate'])\n",
    "\n",
    "x_median = subset_df['X Coordinate'].median()\n",
    "y_median = subset_df['Y Coordinate'].median()\n",
    "\n",
    "conditions = [\n",
    "    (subset_df['X Coordinate'] >= x_median) & (subset_df['Y Coordinate'] >= y_median),\n",
    "    (subset_df['X Coordinate'] < x_median) & (subset_df['Y Coordinate'] >= y_median),\n",
    "    (subset_df['X Coordinate'] >= x_median) & (subset_df['Y Coordinate'] < y_median),\n",
    "    (subset_df['X Coordinate'] < x_median) & (subset_df['Y Coordinate'] < y_median)\n",
    "]\n",
    "\n",
    "region_names = ['North-East', 'North-West', 'South-East', 'South-West']\n",
    "subset_df['Region'] = np.select(conditions, region_names, default='Unknown')\n",
    "\n",
    "region_crime_counts = subset_df.groupby(['Region','Primary Type']).size().unstack().fillna(0)\n",
    "\n",
    "region_crime_counts.plot(kind='bar', figsize=(12,7))\n",
    "plt.title(\"Top 5 Crime Types by Region (Using X and Y Coordinates)\", fontsize=16)\n",
    "plt.xlabel(\"Region\")\n",
    "plt.ylabel(\"Count\")\n",
    "plt.legend(title=\"Primary Type\")\n",
    "plt.show()"
   ]
  },
  {
   "cell_type": "markdown",
   "id": "d57f22d0-dd7c-421b-b2f6-779474439809",
   "metadata": {},
   "source": [
    "<h4> No.15 insght:</h4>\n",
    "<p> Theft being the most common except in the SW and SE may be due to better living conditions or better security from the law or personal practices</p>\n",
    "<hr>"
   ]
  },
  {
   "cell_type": "markdown",
   "id": "27e6e570-b18d-47ca-a8bd-1a183d4851de",
   "metadata": {},
   "source": [
    "<h4> No.16 insght:</h4>\n",
    "<p> Theft being the primary crime in the NE where the other 4 even all added together doesnt compare to the amounth of theft happening. which can be good as it is usally a less violent crime. but can be connected to the regions living conditon like lack of work and resorting to theft to survive </p>\n",
    "<hr>"
   ]
  },
  {
   "cell_type": "markdown",
   "id": "179028b1-f656-46a7-b89d-0d6597ef013c",
   "metadata": {},
   "source": [
    "<h4> No.17 insght:</h4>\n",
    "<p> Cases in the NW having more overall compared to all region may be a sign for the government to take a look of a deeper problem </p>\n",
    "<hr>"
   ]
  },
  {
   "cell_type": "markdown",
   "id": "9a666f15-081c-4c7b-8454-e1c1a7a7620f",
   "metadata": {},
   "source": [
    "<h3>6. Which crime type has the highest arrest rate?</h3>"
   ]
  },
  {
   "cell_type": "code",
   "execution_count": 56,
   "id": "4cd65e6d-0dd5-4cd7-b315-db68c45a688e",
   "metadata": {},
   "outputs": [
    {
     "data": {
      "text/plain": [
       "Primary Type\n",
       "GAMBLING                             1.000000\n",
       "CONCEALED CARRY LICENSE VIOLATION    0.987952\n",
       "LIQUOR LAW VIOLATION                 0.968750\n",
       "NARCOTICS                            0.958352\n",
       "PROSTITUTION                         0.951220\n",
       "PUBLIC INDECENCY                     0.923077\n",
       "INTERFERENCE WITH PUBLIC OFFICER     0.894942\n",
       "NON-CRIMINAL                         0.750000\n",
       "WEAPONS VIOLATION                    0.648520\n",
       "OBSCENITY                            0.528302\n",
       "Name: Arrest, dtype: float64"
      ]
     },
     "execution_count": 56,
     "metadata": {},
     "output_type": "execute_result"
    }
   ],
   "source": [
    "\n",
    "arrest_rate = df.groupby('Primary Type')['Arrest'].mean().sort_values(ascending=False).head(10)\n",
    "arrest_rate"
   ]
  },
  {
   "cell_type": "markdown",
   "id": "0ad361d5-69e4-4a5c-815f-408eff7f39b7",
   "metadata": {},
   "source": [
    "<h4> No.18 insght:</h4>\n",
    "<p> gambling cases being guranteed arrest making sense as legal gambling is not usually reported and only if its properly investigated does is get called for attention and the illegal ones is hard to cover up </p>\n",
    "<hr>"
   ]
  },
  {
   "cell_type": "markdown",
   "id": "4fe682bf-bb51-400f-9391-0c60169c0ff7",
   "metadata": {},
   "source": [
    "<h4> No.19 insght:</h4>\n",
    "<p> most most concealed carry not having their licence on them would lead to arrest. if they were license to begin with</p>\n",
    "<hr>"
   ]
  },
  {
   "cell_type": "markdown",
   "id": "81d588af-5e3b-4bf9-9d8f-e3ade82ab7ff",
   "metadata": {},
   "source": [
    "<h3>7. the top 5 crimes during the week</h3>"
   ]
  },
  {
   "cell_type": "code",
   "execution_count": 60,
   "id": "a72b28d4-0360-468b-aded-497a81ab4dbf",
   "metadata": {},
   "outputs": [
    {
     "data": {
      "image/png": "[encoded data removed]",
      "text/plain": [
       "<Figure size 2000x1000 with 1 Axes>"
      ]
     },
     "metadata": {},
     "output_type": "display_data"
    }
   ],
   "source": [
    "df = df[['Primary Type', 'Date']]\n",
    "df['Date'] = pd.to_datetime(df['Date'])\n",
    "df['Day_Name'] = df['Date'].dt.day_name()\n",
    "\n",
    "selected_crimes = ['THEFT', 'BATTERY', 'CRIMINAL DAMAGE', 'ASSAULT', 'BURGLARY', 'ROBBERY']\n",
    "df = df[df['Primary Type'].isin(selected_crimes)]\n",
    "\n",
    "# Aggregate counts by day and crime type\n",
    "counts = subset_df.groupby(['Day_Name', 'Primary Type']).size().unstack(fill_value=0)\n",
    "counts = counts.reindex(['Monday', 'Tuesday', 'Wednesday', 'Thursday', 'Friday', 'Saturday', 'Sunday'])\n",
    "\n",
    "# Plot stacked bar\n",
    "counts.plot(kind='bar', stacked=True, figsize=(20, 10), colormap='tab10')\n",
    "\n",
    "plt.title('Crime Counts by Day of Week for top 5 common Type of crimes', fontsize=18)\n",
    "plt.xlabel('Day of Week', fontsize=14)\n",
    "plt.ylabel('Number of Crimes', fontsize=14)\n",
    "plt.xticks(rotation=45, fontsize=12)\n",
    "plt.yticks(fontsize=12)\n",
    "plt.legend(title='Crime Type', bbox_to_anchor=(1.05, 1), loc='upper left', fontsize=12)\n",
    "plt.tight_layout()\n",
    "plt.show()"
   ]
  },
  {
   "cell_type": "markdown",
   "id": "9ab33845-23ee-4ad1-b4fc-68608e8e1672",
   "metadata": {},
   "source": [
    "<h4> No.20 insght:</h4>\n",
    "<p> with theft and motor theft being the most common crime. makes sense as the criminal is gaining smth from it</p>\n",
    "<hr>"
   ]
  },
  {
   "cell_type": "markdown",
   "id": "f0e7a39b-1eb1-4e96-9879-3c5d419e088e",
   "metadata": {},
   "source": [
    "<h4> No.21 insght:</h4>\n",
    "<p> crime being most active during friday. may be due to built up stress during the weekdays? or most people being less attentive during friday</p>\n",
    "<hr>"
   ]
  },
  {
   "cell_type": "markdown",
   "id": "e7b4ac3a-33ac-43f5-aff2-13868fce28c3",
   "metadata": {},
   "source": [
    "<h3>8. Where is theft the most common? but visualized~</h3>"
   ]
  },
  {
   "cell_type": "code",
   "execution_count": 62,
   "id": "3f0e6b5c-3726-4ed9-94b5-53acc22a5892",
   "metadata": {},
   "outputs": [
    {
     "data": {
      "image/png": "[encoded data removed]",
      "text/plain": [
       "<Figure size 1000x600 with 1 Axes>"
      ]
     },
     "metadata": {},
     "output_type": "display_data"
    }
   ],
   "source": [
    "\n",
    "\n",
    "chicago_hteft = tdf[\"Location Description\"].value_counts().head(10)\n",
    "\n",
    "chicago_hteft\n",
    "\n",
    "labelss = [\"Street\", \"Apartment\", \"Alley\", \"House\", \"Parking Lot\", \"Park Property\", \n",
    "          \"Yard\", \"Auto\", \"Gas Station\", \"Porch\"]\n",
    "\n",
    "chicago_hteft.plot(kind='bar', figsize=(10,6) )\n",
    "plt.xlabel('Locations')\n",
    "plt.ylabel('Number of Crimes related homicide')\n",
    "plt.title('Top 10 location for theft')\n",
    "plt.xticks(ticks=range(0,10), labels=labelss, rotation=30)\n",
    "plt.show()"
   ]
  },
  {
   "cell_type": "markdown",
   "id": "9d5dc5de-fe29-45ef-a9ef-c3a531e3c293",
   "metadata": {},
   "source": [
    "<h4> No.22 insght:</h4>\n",
    "<p> Street theft being the most common by a decent margin compared to appartment followed up by alley then house</p>\n",
    "<hr>"
   ]
  },
  {
   "cell_type": "markdown",
   "id": "720a15f5-de0d-438e-a098-2708cbeeb61a",
   "metadata": {},
   "source": [
    "<h4> No.23 insght:</h4>\n",
    "<p> Alley suprisingly in the middle of actually homes instead of being 2nd overall as alley are quite secure to steal and you spect crimes to happen</p>\n",
    "<hr>"
   ]
  },
  {
   "cell_type": "code",
   "execution_count": null,
   "id": "6ac6f17c-01a2-4dd7-b8df-7d29f7b66832",
   "metadata": {},
   "outputs": [],
   "source": []
  }
 ],
 "metadata": {
  "kernelspec": {
   "display_name": "Python 3 (ipykernel)",
   "language": "python",
   "name": "python3"
  },
  "language_info": {
   "codemirror_mode": {
    "name": "ipython",
    "version": 3
   },
   "file_extension": ".py",
   "mimetype": "text/x-python",
   "name": "python",
   "nbconvert_exporter": "python",
   "pygments_lexer": "ipython3",
   "version": "3.13.6"
  }
 },
 "nbformat": 4,
 "nbformat_minor": 5
}
